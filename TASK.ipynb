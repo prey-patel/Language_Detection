{
  "nbformat": 4,
  "nbformat_minor": 0,
  "metadata": {
    "colab": {
      "provenance": []
    },
    "kernelspec": {
      "name": "python3",
      "display_name": "Python 3"
    },
    "language_info": {
      "name": "python"
    }
  },
  "cells": [
    {
      "cell_type": "markdown",
      "source": [
        "I used 3 differnt classification model here from sklearn library and I cheched accuracy of all model and in terms of accuracy **Random Forest Classification** works Fine "
      ],
      "metadata": {
        "id": "GGGBaWBTmGsi"
      }
    },
    {
      "cell_type": "code",
      "execution_count": 1,
      "metadata": {
        "id": "HQbIhHFKd7my"
      },
      "outputs": [],
      "source": [
        "import pandas as pd\n",
        "from sklearn.feature_extraction.text import TfidfVectorizer\n",
        "from sklearn.preprocessing import FunctionTransformer\n",
        "from sklearn.model_selection import train_test_split\n",
        "from sklearn.ensemble import RandomForestClassifier\n",
        "from sklearn.pipeline import Pipeline"
      ]
    },
    {
      "cell_type": "code",
      "source": [
        "from sklearn.ensemble import RandomForestClassifier\n",
        "from sklearn.tree import DecisionTreeClassifier\n",
        "from sklearn.svm import SVC"
      ],
      "metadata": {
        "id": "TTn5s8GSk-_a"
      },
      "execution_count": 2,
      "outputs": []
    },
    {
      "cell_type": "code",
      "source": [
        "# Loading Data\n",
        "\n",
        "data = pd.read_csv('/content/data.csv')\n",
        "data.dropna(inplace=True)\n",
        "data.drop_duplicates(inplace=True)\n",
        "\n",
        "# Train/Test split\n",
        "x = data.file_body\n",
        "y = data.language\n",
        "x_train, x_test, y_train, y_test = train_test_split(x, y, test_size=0.2)\n"
      ],
      "metadata": {
        "id": "nhXCSYeseQae"
      },
      "execution_count": 3,
      "outputs": []
    },
    {
      "cell_type": "code",
      "source": [
        "token_pattern = r\"\"\"(\\b[A-Za-z_]\\w*\\b|[!\\#\\$%\\&\\*\\+:\\-\\./<=>\\?@\\\\\\^_\\|\\~]+|[ \\t\\(\\),;\\{\\}\\[\\]`\"'])\"\"\"\n",
        "vectorizer = TfidfVectorizer(token_pattern=token_pattern, max_features=5000)\n",
        "classifier = RandomForestClassifier(n_estimators = 300, criterion = 'entropy', random_state = 0)\n",
        "# classifier.fit(x_train, y_train)\n",
        "\n",
        "pipe = Pipeline([\n",
        "    ('vectorizer', vectorizer),\n",
        "    ('clf', classifier)])\n",
        "pipe.fit(x_train, y_train)"
      ],
      "metadata": {
        "id": "exxst_89e5eO",
        "colab": {
          "base_uri": "https://localhost:8080/"
        },
        "outputId": "ab88db07-2f1b-4849-c2c5-2194ed38eb5b"
      },
      "execution_count": 4,
      "outputs": [
        {
          "output_type": "execute_result",
          "data": {
            "text/plain": [
              "Pipeline(steps=[('vectorizer',\n",
              "                 TfidfVectorizer(max_features=5000,\n",
              "                                 token_pattern='(\\\\b[A-Za-z_]\\\\w*\\\\b|[!\\\\#\\\\$%\\\\&\\\\*\\\\+:\\\\-\\\\./<=>\\\\?@\\\\\\\\\\\\^_\\\\|\\\\~]+|[ '\n",
              "                                               '\\\\t\\\\(\\\\),;\\\\{\\\\}\\\\[\\\\]`\"\\'])')),\n",
              "                ('clf',\n",
              "                 RandomForestClassifier(criterion='entropy', n_estimators=300,\n",
              "                                        random_state=0))])"
            ]
          },
          "metadata": {},
          "execution_count": 4
        }
      ]
    },
    {
      "cell_type": "code",
      "source": [
        "print(f'Accuracy: {pipe.score(x_test, y_test)}')"
      ],
      "metadata": {
        "colab": {
          "base_uri": "https://localhost:8080/"
        },
        "id": "VckdX9-KkQ0E",
        "outputId": "959f4820-89e6-46f7-d058-02bea031c7c4"
      },
      "execution_count": 5,
      "outputs": [
        {
          "output_type": "stream",
          "name": "stdout",
          "text": [
            "Accuracy: 0.9308543331284573\n"
          ]
        }
      ]
    },
    {
      "cell_type": "code",
      "source": [
        "classifier = DecisionTreeClassifier(criterion = 'entropy', random_state =0)\n",
        "pipe1 = Pipeline([\n",
        "    ('vectorizer', vectorizer),\n",
        "    ('clf', classifier)])\n",
        "pipe1.fit(x_train, y_train)"
      ],
      "metadata": {
        "colab": {
          "base_uri": "https://localhost:8080/"
        },
        "id": "nYIm5b-Mdk4X",
        "outputId": "37e8201a-4dfa-4879-c984-610edcdf0609"
      },
      "execution_count": 6,
      "outputs": [
        {
          "output_type": "execute_result",
          "data": {
            "text/plain": [
              "Pipeline(steps=[('vectorizer',\n",
              "                 TfidfVectorizer(max_features=5000,\n",
              "                                 token_pattern='(\\\\b[A-Za-z_]\\\\w*\\\\b|[!\\\\#\\\\$%\\\\&\\\\*\\\\+:\\\\-\\\\./<=>\\\\?@\\\\\\\\\\\\^_\\\\|\\\\~]+|[ '\n",
              "                                               '\\\\t\\\\(\\\\),;\\\\{\\\\}\\\\[\\\\]`\"\\'])')),\n",
              "                ('clf',\n",
              "                 DecisionTreeClassifier(criterion='entropy', random_state=0))])"
            ]
          },
          "metadata": {},
          "execution_count": 6
        }
      ]
    },
    {
      "cell_type": "code",
      "source": [
        "print(f'Accuracy: {pipe1.score(x_test, y_test)}')"
      ],
      "metadata": {
        "id": "jc0kpq_wfP6V",
        "colab": {
          "base_uri": "https://localhost:8080/"
        },
        "outputId": "6e387664-bc68-4cae-e22c-a446ed9aff11"
      },
      "execution_count": 7,
      "outputs": [
        {
          "output_type": "stream",
          "name": "stdout",
          "text": [
            "Accuracy: 0.8355869698832207\n"
          ]
        }
      ]
    },
    {
      "cell_type": "code",
      "source": [
        "classifier = SVC(kernel= 'linear', random_state= 0)\n",
        "pipe2 = Pipeline([\n",
        "    ('vectorizer', vectorizer),\n",
        "    ('clf', classifier)])\n",
        "pipe2.fit(x_train, y_train)"
      ],
      "metadata": {
        "colab": {
          "base_uri": "https://localhost:8080/"
        },
        "id": "04OJANJqdf67",
        "outputId": "0ca1a858-fb96-41b6-dba3-6df48d4e23f6"
      },
      "execution_count": 8,
      "outputs": [
        {
          "output_type": "execute_result",
          "data": {
            "text/plain": [
              "Pipeline(steps=[('vectorizer',\n",
              "                 TfidfVectorizer(max_features=5000,\n",
              "                                 token_pattern='(\\\\b[A-Za-z_]\\\\w*\\\\b|[!\\\\#\\\\$%\\\\&\\\\*\\\\+:\\\\-\\\\./<=>\\\\?@\\\\\\\\\\\\^_\\\\|\\\\~]+|[ '\n",
              "                                               '\\\\t\\\\(\\\\),;\\\\{\\\\}\\\\[\\\\]`\"\\'])')),\n",
              "                ('clf', SVC(kernel='linear', random_state=0))])"
            ]
          },
          "metadata": {},
          "execution_count": 8
        }
      ]
    },
    {
      "cell_type": "code",
      "source": [
        "print(f'Accuracy: {pipe2.score(x_test, y_test)}')"
      ],
      "metadata": {
        "colab": {
          "base_uri": "https://localhost:8080/"
        },
        "id": "hsC9OsxMhONy",
        "outputId": "b1773439-2d8f-4d75-fc3d-c926eda0ca2b"
      },
      "execution_count": 9,
      "outputs": [
        {
          "output_type": "stream",
          "name": "stdout",
          "text": [
            "Accuracy: 0.8927473878303627\n"
          ]
        }
      ]
    },
    {
      "cell_type": "code",
      "source": [],
      "metadata": {
        "id": "Glq7Ju1IhY0l"
      },
      "execution_count": 9,
      "outputs": []
    }
  ]
}